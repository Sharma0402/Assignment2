{
 "cells": [
  {
   "cell_type": "code",
   "execution_count": 1,
   "id": "a1946644-1928-4cab-acd0-050339ed08ec",
   "metadata": {},
   "outputs": [],
   "source": [
    "#Question1\n",
    "#Comments in Python are identified with a hash symbol, #, and extend to the end of the line. \n",
    "# There are 2 types of command in python.\n",
    "# Single line comment- In this we have to give the comment instruction again and  again. this command is start with # symbol.\n",
    "# Example- my name is harsh.\n",
    "# Multiple line comment- in this we have to used this for multiple line. This command ha the symbol of  \"\"\"\"\"\".\n",
    "# Example- \"\"\" my name is harsh.i live in meerut\"\"\""
   ]
  },
  {
   "cell_type": "code",
   "execution_count": 2,
   "id": "f481c1eb-46c3-4fa3-83d0-24afb608b99c",
   "metadata": {},
   "outputs": [],
   "source": [
    "# Question2\n",
    "#Python variables are simply containers for storing data values. \n",
    "# Rules for naming variable.\n",
    "#Variables name must start with letter or an underscore.\n",
    "#The remainder of your variable name may consist of letter,number,and underscore.\n",
    "\n",
    "\n",
    "#Did not do for giving the name of variable\n",
    "#Names cannot begin with a number. Python will throw an error. when you try to do so.\n",
    "#Names cannot contain space ,use underscore insted.\n",
    "#Names cannot conatin any of these symbol. \n",
    "# thus is the example of variable- a=1234"
   ]
  },
  {
   "cell_type": "code",
   "execution_count": 3,
   "id": "67c36350-6a34-497c-a931-d4a3778e11e0",
   "metadata": {},
   "outputs": [
    {
     "name": "stdout",
     "output_type": "stream",
     "text": [
      "['1', ',', '2', ',', '2']\n"
     ]
    }
   ],
   "source": [
    "#Question3\n",
    "a=\"1,2,2\"  # this is a string   \n",
    "b=print(list(a)) # now string got change into list."
   ]
  },
  {
   "cell_type": "code",
   "execution_count": 4,
   "id": "bbbf0c40-6ca9-47d9-803c-9d87c6621daf",
   "metadata": {},
   "outputs": [],
   "source": [
    "#Question4"
   ]
  },
  {
   "cell_type": "code",
   "execution_count": 5,
   "id": "ea7f15c9-b317-49a6-839b-32da5ea4e846",
   "metadata": {},
   "outputs": [
    {
     "data": {
      "text/plain": [
       "[2, 3]"
      ]
     },
     "execution_count": 5,
     "metadata": {},
     "output_type": "execute_result"
    }
   ],
   "source": [
    "#Question5\n",
    "my_list=[1,2,3,4,5]\n",
    "my_list[1:3]"
   ]
  },
  {
   "cell_type": "code",
   "execution_count": 2,
   "id": "49a79c59-2e37-437b-8f6d-f96ff97bcab1",
   "metadata": {},
   "outputs": [
    {
     "name": "stdout",
     "output_type": "stream",
     "text": [
      "<class 'complex'>\n"
     ]
    }
   ],
   "source": [
    "#Question6\n",
    "#complex number are those number which contain a real number and an imaginary number. #example 2+3j\n",
    "c=3+9j\n",
    "print(type(c))"
   ]
  },
  {
   "cell_type": "code",
   "execution_count": 3,
   "id": "c17c9ab6-d5da-4b7e-b53c-87c5563ac90f",
   "metadata": {},
   "outputs": [],
   "source": [
    "#Question7\n",
    "#Python variables are simply containers for storing data values. \n",
    "# Rules for naming variable.\n",
    "#Variables name must start with letter or an underscore.\n",
    "#The remainder of your variable name may consist of letter,number,and underscore.\n",
    "\n",
    "\n",
    "#Did not do for giving the name of variable\n",
    "#Names cannot begin with a number. Python will throw an error. when you try to do so.\n",
    "#Names cannot contain space ,use underscore insted.\n",
    "#Names cannot conatin any of these symbol. \n",
    "# thus is the example of variable- a=1234\n",
    "age=25"
   ]
  },
  {
   "cell_type": "code",
   "execution_count": 4,
   "id": "6fbb7144-56f1-4065-86c4-5e7bdb68c8d2",
   "metadata": {},
   "outputs": [
    {
     "data": {
      "text/plain": [
       "float"
      ]
     },
     "execution_count": 4,
     "metadata": {},
     "output_type": "execute_result"
    }
   ],
   "source": [
    "#Question8\n",
    "price=9.99\n",
    "type(price)"
   ]
  },
  {
   "cell_type": "code",
   "execution_count": 5,
   "id": "9b96ddf4-b52f-43a0-9a5f-38b878861516",
   "metadata": {},
   "outputs": [
    {
     "name": "stdout",
     "output_type": "stream",
     "text": [
      "My name is Harsh Sharma\n"
     ]
    }
   ],
   "source": [
    "#Question9\n",
    "name=\"My name is Harsh Sharma\"\n",
    "print(name)"
   ]
  },
  {
   "cell_type": "code",
   "execution_count": 6,
   "id": "96163218-78c4-4f70-83d2-ca577863edfb",
   "metadata": {},
   "outputs": [
    {
     "data": {
      "text/plain": [
       "'World'"
      ]
     },
     "execution_count": 6,
     "metadata": {},
     "output_type": "execute_result"
    }
   ],
   "source": [
    "#Question10\n",
    "s=\"Hello,World\"\n",
    "s[6:]"
   ]
  },
  {
   "cell_type": "code",
   "execution_count": 11,
   "id": "855abe6c-5828-49c7-95b1-460fa79572e5",
   "metadata": {},
   "outputs": [
    {
     "name": "stdin",
     "output_type": "stream",
     "text": [
      " True | True\n"
     ]
    },
    {
     "name": "stdout",
     "output_type": "stream",
     "text": [
      "not student\n"
     ]
    }
   ],
   "source": [
    "#Question11\n",
    "Is_student=input()\n",
    "if Is_student == True:\n",
    "    print(\"yes student\")\n",
    "else:\n",
    "    print(\"not student\")"
   ]
  },
  {
   "cell_type": "code",
   "execution_count": null,
   "id": "c2e36aa7-c649-4dc2-bdce-c22cafbfdda3",
   "metadata": {},
   "outputs": [],
   "source": []
  }
 ],
 "metadata": {
  "kernelspec": {
   "display_name": "Python 3 (ipykernel)",
   "language": "python",
   "name": "python3"
  },
  "language_info": {
   "codemirror_mode": {
    "name": "ipython",
    "version": 3
   },
   "file_extension": ".py",
   "mimetype": "text/x-python",
   "name": "python",
   "nbconvert_exporter": "python",
   "pygments_lexer": "ipython3",
   "version": "3.10.8"
  }
 },
 "nbformat": 4,
 "nbformat_minor": 5
}
